{
 "cells": [
  {
   "cell_type": "code",
   "execution_count": 23,
   "id": "26853226",
   "metadata": {},
   "outputs": [],
   "source": [
    "from gensim.test.utils import get_tmpfile\n",
    "from gensim.models.doc2vec import Doc2Vec, TaggedDocument"
   ]
  },
  {
   "cell_type": "code",
   "execution_count": 24,
   "id": "5996a2da",
   "metadata": {},
   "outputs": [],
   "source": [
    "c=1\n",
    "simple_models=[]\n",
    "for model in range(3): \n",
    "    simple_models.append(Doc2Vec.load(str(c)))\n",
    "    c+=1"
   ]
  },
  {
   "cell_type": "code",
   "execution_count": 25,
   "id": "da926cca",
   "metadata": {},
   "outputs": [
    {
     "name": "stderr",
     "output_type": "stream",
     "text": [
      "C:\\Users\\Darshal\\.conda\\envs\\NLTK_env\\lib\\site-packages\\smart_open\\smart_open_lib.py:400: UserWarning: This function is deprecated, use smart_open.open instead. See the migration notes for details: https://github.com/RaRe-Technologies/smart_open/blob/master/README.rst#migrating-to-the-new-open-function\n",
      "  warnings.warn(\n"
     ]
    },
    {
     "name": "stdout",
     "output_type": "stream",
     "text": [
      "100000 docs: 25000 train-sentiment, 25000 test-sentiment\n"
     ]
    }
   ],
   "source": [
    "from smart_open import smart_open\n",
    "import gensim\n",
    "from gensim.models.doc2vec import TaggedDocument\n",
    "from collections import namedtuple\n",
    "SentimentDocument = namedtuple('SentimentDocument', 'words tags split sentiment')\n",
    "alldocs = []\n",
    "with smart_open('alldata-id.txt', 'rb', encoding='utf-8') as alldata:\n",
    "    for line_no, line in enumerate(alldata):\n",
    "        tokens = gensim.utils.to_unicode(line).split()\n",
    "        words = tokens[1:]\n",
    "        tags = [line_no] # 'tags = [tokens[0]]' would also work at extra memory cost\n",
    "        split = ['train', 'test', 'extra', 'extra'][line_no//25000]  # 25k train, 25k test, 25k extra\n",
    "        sentiment = [1.0, 0.0, 1.0, 0.0, None, None, None, None][line_no//12500] # [12.5K pos, 12.5K neg]*2 then unknown\n",
    "        alldocs.append(SentimentDocument(words, tags, split, sentiment))\n",
    "\n",
    "train_docs = [doc for doc in alldocs if doc.split == 'train']\n",
    "test_docs = [doc for doc in alldocs if doc.split == 'test']\n",
    "\n",
    "print('%d docs: %d train-sentiment, %d test-sentiment' % (len(alldocs), len(train_docs), len(test_docs)))"
   ]
  },
  {
   "cell_type": "code",
   "execution_count": 26,
   "id": "7046c0d4",
   "metadata": {},
   "outputs": [],
   "source": [
    "from random import shuffle\n",
    "doc_list = alldocs[:]  \n",
    "shuffle(doc_list)"
   ]
  },
  {
   "cell_type": "code",
   "execution_count": 27,
   "id": "db60be1f",
   "metadata": {},
   "outputs": [],
   "source": [
    "import numpy as np\n",
    "import statsmodels.api as sm\n",
    "from random import sample\n",
    "    \n",
    "def logistic_predictor_from_data(train_targets, train_regressors):\n",
    "    \"\"\"Fit a statsmodel logistic predictor on supplied data\"\"\"\n",
    "    logit = sm.Logit(train_targets, train_regressors)\n",
    "    predictor = logit.fit(disp=0)\n",
    "    # print(predictor.summary())\n",
    "    return predictor\n",
    "\n",
    "def error_rate_for_model(test_model, train_set, test_set, \n",
    "                         reinfer_train=False, reinfer_test=False, \n",
    "                         infer_steps=None, infer_alpha=None, infer_subsample=0.2):\n",
    "    \"\"\"Report error rate on test_doc sentiments, using supplied model and train_docs\"\"\"\n",
    "\n",
    "    train_targets = [doc.sentiment for doc in train_set]\n",
    "    if reinfer_train:\n",
    "        train_regressors = [test_model.infer_vector(doc.words, steps=infer_steps, alpha=infer_alpha) for doc in train_set]\n",
    "    else:\n",
    "        train_regressors = [test_model.docvecs[doc.tags[0]] for doc in train_set]\n",
    "    train_regressors = sm.add_constant(train_regressors)\n",
    "    predictor = logistic_predictor_from_data(train_targets, train_regressors)\n",
    "\n",
    "    test_data = test_set\n",
    "    if reinfer_test:\n",
    "        if infer_subsample < 1.0:\n",
    "            test_data = sample(test_data, int(infer_subsample * len(test_data)))\n",
    "        test_regressors = [test_model.infer_vector(doc.words, steps=infer_steps, alpha=infer_alpha) for doc in test_data]\n",
    "    else:\n",
    "        test_regressors = [test_model.docvecs[doc.tags[0]] for doc in test_docs]\n",
    "    test_regressors = sm.add_constant(test_regressors)\n",
    "    \n",
    "    # Predict & evaluate\n",
    "    test_predictions = predictor.predict(test_regressors)\n",
    "    corrects = sum(np.rint(test_predictions) == [doc.sentiment for doc in test_data])\n",
    "    errors = len(test_predictions) - corrects\n",
    "    error_rate = float(errors) / len(test_predictions)\n",
    "    return (error_rate, errors, len(test_predictions), predictor)"
   ]
  },
  {
   "cell_type": "code",
   "execution_count": 28,
   "id": "01c0f049",
   "metadata": {},
   "outputs": [],
   "source": [
    "from collections import defaultdict\n",
    "error_rates = defaultdict(lambda: 1.0)  # To selectively print only best errors achieved"
   ]
  },
  {
   "cell_type": "code",
   "execution_count": 29,
   "id": "9850589e",
   "metadata": {},
   "outputs": [
    {
     "name": "stdout",
     "output_type": "stream",
     "text": [
      "\n",
      "Evaluating Doc2Vec(dbow,d100,n5,mc2,t8)\n"
     ]
    },
    {
     "name": "stderr",
     "output_type": "stream",
     "text": [
      "<ipython-input-27-7664142d2416>:21: DeprecationWarning: Call to deprecated `docvecs` (The `docvecs` property has been renamed `dv`.).\n",
      "  train_regressors = [test_model.docvecs[doc.tags[0]] for doc in train_set]\n",
      "<ipython-input-27-7664142d2416>:31: DeprecationWarning: Call to deprecated `docvecs` (The `docvecs` property has been renamed `dv`.).\n",
      "  test_regressors = [test_model.docvecs[doc.tags[0]] for doc in test_docs]\n"
     ]
    },
    {
     "name": "stdout",
     "output_type": "stream",
     "text": [
      "\n",
      "0.146240 Doc2Vec(dbow,d100,n5,mc2,t8)\n",
      "\n",
      "\n",
      "Evaluating Doc2Vec(dm/m,d100,n5,w10,mc2,t8)\n",
      "\n",
      "0.211760 Doc2Vec(dm/m,d100,n5,w10,mc2,t8)\n",
      "\n",
      "\n",
      "Evaluating Doc2Vec(dm/c,d100,n5,w5,mc2,t8)\n",
      "\n",
      "0.376800 Doc2Vec(dm/c,d100,n5,w5,mc2,t8)\n",
      "\n"
     ]
    }
   ],
   "source": [
    "for model in simple_models: \n",
    "    print(\"\\nEvaluating %s\" % model)\n",
    "    err_rate, err_count, test_count, predictor = error_rate_for_model(model, train_docs, test_docs)\n",
    "    error_rates[str(model)] = err_rate\n",
    "    print(\"\\n%f %s\\n\" % (err_rate, model))"
   ]
  },
  {
   "cell_type": "code",
   "execution_count": 30,
   "id": "451e4ec9",
   "metadata": {},
   "outputs": [
    {
     "name": "stdout",
     "output_type": "stream",
     "text": [
      "Err_rate Model\n",
      "0.146240 Doc2Vec(dbow,d100,n5,mc2,t8)\n",
      "0.211760 Doc2Vec(dm/m,d100,n5,w10,mc2,t8)\n",
      "0.376800 Doc2Vec(dm/c,d100,n5,w5,mc2,t8)\n"
     ]
    }
   ],
   "source": [
    "print(\"Err_rate Model\")\n",
    "for rate, name in sorted((rate, name) for name, rate in error_rates.items()):\n",
    "    print(\"%f %s\" % (rate, name))"
   ]
  },
  {
   "cell_type": "code",
   "execution_count": 35,
   "id": "810cec45",
   "metadata": {},
   "outputs": [
    {
     "name": "stdout",
     "output_type": "stream",
     "text": [
      "most similar words for 'goodbye' (6157 occurences)\n"
     ]
    },
    {
     "data": {
      "text/html": [
       "<table><tr><th>Doc2Vec(dbow,d100,n5,mc2,t8)</th><th>Doc2Vec(dm/m,d100,n5,w10,mc2,t8)</th><th>Doc2Vec(dm/c,d100,n5,w5,mc2,t8)</th></tr><tr><td>[('parrish', 0.46560177206993103),<br>\n",
       "('career-dead', 0.4251338839530945),<br>\n",
       "('scarp', 0.42053326964378357),<br>\n",
       "('ojibway', 0.39109230041503906),<br>\n",
       "('anti-competitive', 0.3903639018535614),<br>\n",
       "(\"shaffer's\", 0.3867054581642151),<br>\n",
       "('splashed', 0.386642724275589),<br>\n",
       "('rigors', 0.37911680340766907),<br>\n",
       "('on-point', 0.376544713973999),<br>\n",
       "(\"lessons'\", 0.3757546544075012),<br>\n",
       "('nick@night', 0.3698621690273285),<br>\n",
       "(\"'back\", 0.36863091588020325),<br>\n",
       "('benita', 0.3670118749141693),<br>\n",
       "('wildman', 0.3651280403137207),<br>\n",
       "('draco', 0.36431047320365906),<br>\n",
       "('football', 0.3607681393623352),<br>\n",
       "('gamely', 0.35533466935157776),<br>\n",
       "(\"dench's\", 0.35527360439300537),<br>\n",
       "('haryanvi', 0.3539436161518097),<br>\n",
       "(\"resume's\", 0.3528524339199066)]</td><td>[('farewell', 0.7002571225166321),<br>\n",
       "('good-bye', 0.5677174925804138),<br>\n",
       "('hello', 0.5641282796859741),<br>\n",
       "('adieu', 0.5598751306533813),<br>\n",
       "('beaver', 0.5391549468040466),<br>\n",
       "('stairway', 0.535651683807373),<br>\n",
       "('havana', 0.5307672619819641),<br>\n",
       "('needless', 0.5158049464225769),<br>\n",
       "('paraphrase', 0.5150619745254517),<br>\n",
       "('hi', 0.5129165053367615),<br>\n",
       "('inmate/pilot', 0.5123285055160522),<br>\n",
       "('trouby', 0.5072649717330933),<br>\n",
       "('hush', 0.5031053423881531),<br>\n",
       "('denver', 0.5025613903999329),<br>\n",
       "('hereafter', 0.5008232593536377),<br>\n",
       "('yi-che', 0.49571216106414795),<br>\n",
       "('nahi', 0.49128982424736023),<br>\n",
       "('reply', 0.4890081584453583),<br>\n",
       "('cuddle', 0.48873332142829895),<br>\n",
       "('tuesday', 0.4840763211250305)]</td><td>[('goodnight', 0.6841808557510376),<br>\n",
       "('hello', 0.6766211986541748),<br>\n",
       "('farewell', 0.5839443802833557),<br>\n",
       "(\"'penis'\", 0.5594010353088379),<br>\n",
       "('good-bye', 0.5414263010025024),<br>\n",
       "('bye', 0.5398421883583069),<br>\n",
       "('incoherently', 0.5338912010192871),<br>\n",
       "('afterward', 0.5278379321098328),<br>\n",
       "(\"'yes'\", 0.5205431580543518),<br>\n",
       "('whaaa', 0.5163118839263916),<br>\n",
       "('brana', 0.509772002696991),<br>\n",
       "('belonging', 0.5021269917488098),<br>\n",
       "('kuch', 0.49723172187805176),<br>\n",
       "(\"'bizarre\", 0.49608299136161804),<br>\n",
       "('afterwards', 0.493028461933136),<br>\n",
       "(\"'welcome\", 0.4914415776729584),<br>\n",
       "('hi', 0.4895091652870178),<br>\n",
       "('whoa', 0.48633822798728943),<br>\n",
       "('-couple', 0.4839484691619873),<br>\n",
       "('lonnrot', 0.48105746507644653)]</td></tr></table>"
      ],
      "text/plain": [
       "<IPython.core.display.HTML object>"
      ]
     },
     "execution_count": 35,
     "metadata": {},
     "output_type": "execute_result"
    }
   ],
   "source": [
    "word_models = simple_models[:]\n",
    "import random\n",
    "from IPython.display import HTML\n",
    "# pick a random word with a suitable number of occurences\n",
    "\n",
    "word = 'goodbye'\n",
    "    \n",
    "# or uncomment below line, to just pick a word from the relevant domain:\n",
    "#word = 'comedy/drama'\n",
    "similars_per_model = [str(model.wv.most_similar(word, topn=20)).replace('), ','),<br>\\n') for model in word_models]\n",
    "similar_table = (\"<table><tr><th>\" +\n",
    "    \"</th><th>\".join([str(model) for model in word_models]) + \n",
    "    \"</th></tr><tr><td>\" +\n",
    "    \"</td><td>\".join(similars_per_model) +\n",
    "    \"</td></tr></table>\")\n",
    "print(\"most similar words for '%s' (%d occurences)\" % (word, simple_models[0].wv.key_to_index[word]))\n",
    "HTML(similar_table)"
   ]
  },
  {
   "cell_type": "code",
   "execution_count": 34,
   "id": "7585b97d",
   "metadata": {},
   "outputs": [
    {
     "name": "stdout",
     "output_type": "stream",
     "text": [
      "for doc 7032...\n",
      "Doc2Vec(dbow,d100,n5,mc2,t8):\n",
      " [(7032, 0.9037784934043884), (80985, 0.8294853568077087), (32572, 0.825411856174469)] \n",
      " ['enterprise', ',', 'the', 'latest', 'high', 'budget', 'spin-off', 'to', 'the', 'most', 'successful', 'franchise', 'in', 'film', 'and', 'or', 'television', 'history', 'opens', 'to', 'the', 'tune', 'of', 'a', '90-minute', 'episode', 'called', \"'broken\", \"bow'\", '.', 'first', 'we', 'are', 'swept', 'into', 'a', 'massive', 'action', 'sequence', 'with', 'a', 'klingon', 'being', 'chased', 'by', 'some', 'suliban', '(', 'who', 'are', 'the', 'main', 'enemy', 'in', 'the', 'first', 'season', 'of', 'the', 'show', ')', '.', 'from', 'there', 'the', 'televised', 'movie', 'takes', 'us', 'on', 'a', 'journey', 'that', 'seldom', 'gets', 'as', 'good', 'as', 'it', 'is', ',', 'with', 'some', 'of', 'the', 'best', 'character', 'development', ',', 'story', 'and', 'action/visual', 'effects', 'ever', 'seen', 'in', 'such', 'a', 'short', 'amount', 'of', 'time', '.', 'the', 'opening-credits', 'is', 'a', 'debatable', 'subject', 'among', 'the', 'minority', 'of', 'enterprise', 'fans', ',', 'whom', 'some', 'believe', 'that', 'the', 'song', 'is', 'out', 'of', 'place', '.', 'what', 'they', 'fail', 'to', 'realise', 'is', 'the', 'lyrics', 'themselves', '.', 'if', 'one', 'listens', 'to', 'the', 'actual', 'song', ',', 'instead', 'of', 'the', 'theme', ',', 'then', 'they', 'will', 'begin', 'to', 'piece', 'the', 'parts', 'of', 'the', 'puzzle', 'together', '.', 'and', 'eventually', 'as', 'the', 'series', 'progresses', 'further', 'and', 'further', ',', 'and', 'we', 'learn', 'more', 'about', 'our', 'valiant', 'captain', 'and', 'his', 'crew', ',', 'will', 'the', 'song', 'actually', 'become', 'meaningful', '.', 'overall', 'diane', \"warren's\", 'theme', 'is', 'beautifully', 'orchestrated', 'and', 'is', 'sung', 'just', 'as', 'well', 'by', 'opera', 'singer', 'russell', 'watson', '.', 'what', 'makes', 'any', 'television', 'show', 'watchable', 'and', 'worth', 'watching', 'time', 'and', 'time', 'again', 'is', 'its', 'characters', 'and', 'the', 'way', 'they', 'become', 'structured', 'and', 'layered', '.', 'enterprise', 'is', '(', 'in', 'my', 'opinion', ')', 'one', 'of', 'the', 'most', 'well', 'cast', 'shows', 'since', 'the', 'next', 'generation', '.', 'choosing', 'scott', 'bakula', ',', 'as', 'captain', 'jonathan', 'archer', 'was', 'the', 'best', 'decision', 'since', 'gene', 'himself', 'cast', 'patrick', 'stewart', 'as', 'jean-luc', 'picard', '.', 'as', 'the', 'captain', 'always', 'leads', 'the', 'show', ',', 'bakula', 'adds', 'a', 'subtlety', 'to', 'his', 'role', 'and', 'brings', 'a', 'huge', 'smile', 'to', 'the', 'faces', 'of', 'anyone', 'with', 'blood', 'pumping', 'in', 'their', 'veins', '.', 'he', 'simply', 'is', '(', 'both', 'actor', 'wise', 'and', 'character', 'wise', ')', 'a', 'superb', 'human', 'being', 'and', 'his', 'charm', ',', 'wit', ',', 'and', 'compassion', 'are', 'overwhelming', 'to', 'watch', '.', 'as', 'for', 'the', 'other', 'cast', 'members', ',', 'a', 'favourite', 'of', 'mine', 'is', 'john', 'billingsley', 'who', 'plays', 'dr', '.', 'phlox', '.', \"it's\", 'also', 'nice', 'to', 'see', 'a', 'non-human', 'playing', 'a', 'role', ',', 'and', 'the', 'decision', 'to', 'give', 'the', 'captain', 'a', 'dog', ',', 'named', \"'porthos'\", 'was', 'a', 'well-received', 'idea', '.', 'throughout', 'the', 'show', 'character', 'development', 'was', 'brilliant', ',', 'it', 'was', 'fast', ',', 'well', 'timed', 'and', 'almost', 'perfect', '.', 'i', 'say', 'almost', 'because', 'sadly', 'travis', \"mayweather's\", 'character', 'played', 'by', 'the', 'briton', 'anthony', 'montgomery', 'is', 'a', 'little', 'weak', 'at', 'the', 'end', 'of', 'the', 'first', 'season', '.', 'he', 'does', 'have', 'some', 'things', 'to', 'say', 'here', 'and', 'there', ',', 'but', 'remains', 'in', 'the', 'hands', 'of', 'the', 'producers', 'to', 'make', 'him', 'more', 'important', '.', 'jolene', 'blalock', 'is', 'wonderful', 'as', 'the', 'sometimes', 'harsh', 'but', 'equally', 'loveable', 'subcommander', \"t'pol\", '.', 'dominic', 'keating', 'as', 'lieutenant', 'malcolm', 'reed', 'plays', 'a', 'strong', 'role', 'and', 'is', 'convincing', 'as', 'the', 'armoury', 'officer', '.', 'connor', 'trinneer', 'plays', 'commander', 'charles', '\"', 'trip', '\"', 'tucker', 'who', 'always', 'adds', 'charm', 'and', 'comedic', 'style', 'to', 'his', 'character', 'and', 'finally', 'linda', 'park', 'as', 'ensign', 'hoshi', 'sato', ',', 'who', 'often', 'plays', 'a', 'weaker', 'character', 'but', 'thankfully', 'quickly', 'becomes', 'interesting', '.', 'all', 'of', 'these', 'characters', 'make', 'up', 'enterprise', ',', 'and', 'all', 'bring', 'a', 'quality', 'that', 'star', 'trek', \"hasn't\", 'seen', 'in', 'a', 'long', 'time', '.', 'each', 'person', 'makes', 'this', 'show', 'worth', 'watching', '.', 'smiles', 'and', 'feel-good', 'senses', 'are', 'guaranteed', 'right', 'from', 'the', 'first', 'time', 'we', 'see', 'them', 'all', 'together', 'on', 'the', 'bridge', 'of', 'the', 'starship', 'enterprise', 'nx-01', '.', 'the', 'ship', 'itself', ',', 'the', 'nx-01', 'is', 'somewhat', 'questionable', 'in', 'design', '.', 'the', 'series', 'is', 'set', '150', 'years', 'from', 'now', 'and', '100', 'years', 'before', 'captain', 'kirk', '.', 'so', 'why', 'then', 'does', 'the', 'ship', 'appear', 'to', 'be', 'similar', 'in', 'design', 'to', 'mid', '24th', 'century', 'ships', ',', 'namely', 'the', 'akira', 'class', 'starship', '?', 'continuity', 'has', 'been', 'an', 'issue', 'in', 'enterprise', ',', 'but', 'thankfully', 'rick', '[berman]', 'and', 'brannon', '[braga]', 'offer', 'suitable', 'explanations', 'for', 'each', 'and', 'everyone', 'of', 'them', '.', 'continuity', 'is', 'only', 'a', 'problem', 'if', 'you', 'are', 'forever', 'scrutinising', 'shows', 'and', 'are', 'obsessed', 'with', 'the', 'tiniest', 'of', 'details', '.', 'if', 'you', 'see', 'the', 'show', 'with', 'and', 'open', 'mind', ',', 'then', \"you'll\", 'have', 'no', 'problems', ',', 'but', 'there', 'is', 'an', 'urge', 'to', 'know', \"'why'\", 'all', 'the', 'time', '.', 'so', 'what', 'did', 'berman', 'and', 'braga', 'offer', 'to', 'the', 'star', 'trek', 'fan-base', 'with', 'the', 'issue', 'of', 'the', 'deign', 'of', 'the', 'ship', 'itself', '?', 'according', 'to', 'them', 'the', 'nx-01', 'is', 'how', 'it', 'is', 'because', 'of', 'the', 'incident', 'in', 'first', 'contact', '.', 'when', 'zefram', 'cochrane', 'saw', 'the', 'enterprise-e', 'through', 'his', 'telescope', 'and', 'from', 'speaking', 'with', 'the', 'away', 'team', 'lead', 'by', 'commander', 'riker', ',', 'it', 'changed', 'the', 'ideas', 'in', 'his', 'head', '.', \"that's\", 'a', 'good', 'enough', 'explanation', 'for', 'me', '.', 'lets', 'move', 'on', '.', 'of', 'course', 'its', 'not', 'as', 'easy', 'for', 'some', 'fans', 'to', 'accept', 'that', 'sort', 'of', 'answer', ',', 'some', 'go', 'as', 'far', 'as', 'to', 'refuse', 'to', 'see', 'the', 'show', 'until', 'they', 'get', 'a', 'reasonable', 'answer', '.', 'come', 'on', 'guys', 'grow', 'up', '.', 'when', 'george', 'lucas', 'destroyed', 'the', 'star', 'wars', 'saga', 'with', 'the', 'launch', 'of', 'his', 'profit', 'making', 'new', 'trilogy', ',', 'fans', \"couldn't\", 'do', 'anything', ',', 'only', 'watch', 'and', 'sap', 'it', 'all', 'up', 'anyway', '.', 'and', 'then', 'they', 'learned', 'that', ',', 'well', 'maybe', 'its', 'not', 'that', 'bad', 'after', 'all', '.', 'if', 'you', \"can't\", 'accept', 'a', 'quality', 'show', 'for', 'what', 'it', 'is', ',', 'not', 'what', 'it', 'should', 'be', 'in', 'your', 'mind', ',', 'then', 'go', 'elsewhere', '.', 'or', 'try', 'becoming', 'a', 'producer', 'on', 'the', 'show', 'and', 'then', 'see', 'what', 'you', 'can', 'do', '.', 'the', 'sets', 'on', 'enterprise', 'remind', 'me', 'very', 'much', 'of', 'the', 'defiant', 'from', 'deep', 'space', 'nine', '.', 'they', 'often', 'appear', 'cold', 'and', 'have', 'an', 'eerie', 'look', 'of', 'modern', 'structure', 'to', 'them', 'and', 'they', 'cry', 'out', 'that', 'they', 'belong', 'to', 'the', 'military', '.', 'perhaps', 'that', 'why', 'the', 'crew', 'of', 'the', 'uss', 'enterprise', '(', 'aka', 'flagship', 'of', 'the', 'american', 'fleet', ')', 'like', 'it', 'so', 'much', '.', 'they', 'are', 'striking', 'sets', ',', 'and', 'represent', 'the', 'show', 'perfectly', '.', 'rick', 'berman', \"'the\", 'overlord', 'of', 'the', \"empire'\", 'as', 'john', 'logan', 'so', 'accurately', 'put', 'it', 'and', 'his', 'counterpart', 'brannon', 'braga', 'has', 'hit', 'the', 'nail', 'on', 'the', 'head', 'exactly', 'where', 'they', 'should', 'have', ',', 'and', 'in', 'all', 'the', 'right', 'places', '.', 'whether', 'that', 'be', 'technicalities', ',', 'visuals', ',', 'sound', ',', 'editing', 'or', 'score', '.', 'enterprise', 'is', 'a', 'fine', 'demonstration', 'to', 'just', 'how', 'good', 'televised', 'science', 'fiction', 'can', 'ultimately', 'be', ',', 'when', 'in', 'the', 'hands', 'of', 'geniuses', '.', 'the', 'late', 'gene', 'roddenberry', 'would', 'be', 'proud', 'of', 'this', 'series', 'and', 'as', 'a', 'star', 'trek', 'fan', ',', 'so', 'should', 'you', '.']\n"
     ]
    },
    {
     "name": "stdout",
     "output_type": "stream",
     "text": [
      "Doc2Vec(dm/m,d100,n5,w10,mc2,t8):\n",
      " [(7032, 0.7789039015769958), (98233, 0.6074587106704712), (62973, 0.5919082760810852)] \n",
      " ['enterprise', ',', 'the', 'latest', 'high', 'budget', 'spin-off', 'to', 'the', 'most', 'successful', 'franchise', 'in', 'film', 'and', 'or', 'television', 'history', 'opens', 'to', 'the', 'tune', 'of', 'a', '90-minute', 'episode', 'called', \"'broken\", \"bow'\", '.', 'first', 'we', 'are', 'swept', 'into', 'a', 'massive', 'action', 'sequence', 'with', 'a', 'klingon', 'being', 'chased', 'by', 'some', 'suliban', '(', 'who', 'are', 'the', 'main', 'enemy', 'in', 'the', 'first', 'season', 'of', 'the', 'show', ')', '.', 'from', 'there', 'the', 'televised', 'movie', 'takes', 'us', 'on', 'a', 'journey', 'that', 'seldom', 'gets', 'as', 'good', 'as', 'it', 'is', ',', 'with', 'some', 'of', 'the', 'best', 'character', 'development', ',', 'story', 'and', 'action/visual', 'effects', 'ever', 'seen', 'in', 'such', 'a', 'short', 'amount', 'of', 'time', '.', 'the', 'opening-credits', 'is', 'a', 'debatable', 'subject', 'among', 'the', 'minority', 'of', 'enterprise', 'fans', ',', 'whom', 'some', 'believe', 'that', 'the', 'song', 'is', 'out', 'of', 'place', '.', 'what', 'they', 'fail', 'to', 'realise', 'is', 'the', 'lyrics', 'themselves', '.', 'if', 'one', 'listens', 'to', 'the', 'actual', 'song', ',', 'instead', 'of', 'the', 'theme', ',', 'then', 'they', 'will', 'begin', 'to', 'piece', 'the', 'parts', 'of', 'the', 'puzzle', 'together', '.', 'and', 'eventually', 'as', 'the', 'series', 'progresses', 'further', 'and', 'further', ',', 'and', 'we', 'learn', 'more', 'about', 'our', 'valiant', 'captain', 'and', 'his', 'crew', ',', 'will', 'the', 'song', 'actually', 'become', 'meaningful', '.', 'overall', 'diane', \"warren's\", 'theme', 'is', 'beautifully', 'orchestrated', 'and', 'is', 'sung', 'just', 'as', 'well', 'by', 'opera', 'singer', 'russell', 'watson', '.', 'what', 'makes', 'any', 'television', 'show', 'watchable', 'and', 'worth', 'watching', 'time', 'and', 'time', 'again', 'is', 'its', 'characters', 'and', 'the', 'way', 'they', 'become', 'structured', 'and', 'layered', '.', 'enterprise', 'is', '(', 'in', 'my', 'opinion', ')', 'one', 'of', 'the', 'most', 'well', 'cast', 'shows', 'since', 'the', 'next', 'generation', '.', 'choosing', 'scott', 'bakula', ',', 'as', 'captain', 'jonathan', 'archer', 'was', 'the', 'best', 'decision', 'since', 'gene', 'himself', 'cast', 'patrick', 'stewart', 'as', 'jean-luc', 'picard', '.', 'as', 'the', 'captain', 'always', 'leads', 'the', 'show', ',', 'bakula', 'adds', 'a', 'subtlety', 'to', 'his', 'role', 'and', 'brings', 'a', 'huge', 'smile', 'to', 'the', 'faces', 'of', 'anyone', 'with', 'blood', 'pumping', 'in', 'their', 'veins', '.', 'he', 'simply', 'is', '(', 'both', 'actor', 'wise', 'and', 'character', 'wise', ')', 'a', 'superb', 'human', 'being', 'and', 'his', 'charm', ',', 'wit', ',', 'and', 'compassion', 'are', 'overwhelming', 'to', 'watch', '.', 'as', 'for', 'the', 'other', 'cast', 'members', ',', 'a', 'favourite', 'of', 'mine', 'is', 'john', 'billingsley', 'who', 'plays', 'dr', '.', 'phlox', '.', \"it's\", 'also', 'nice', 'to', 'see', 'a', 'non-human', 'playing', 'a', 'role', ',', 'and', 'the', 'decision', 'to', 'give', 'the', 'captain', 'a', 'dog', ',', 'named', \"'porthos'\", 'was', 'a', 'well-received', 'idea', '.', 'throughout', 'the', 'show', 'character', 'development', 'was', 'brilliant', ',', 'it', 'was', 'fast', ',', 'well', 'timed', 'and', 'almost', 'perfect', '.', 'i', 'say', 'almost', 'because', 'sadly', 'travis', \"mayweather's\", 'character', 'played', 'by', 'the', 'briton', 'anthony', 'montgomery', 'is', 'a', 'little', 'weak', 'at', 'the', 'end', 'of', 'the', 'first', 'season', '.', 'he', 'does', 'have', 'some', 'things', 'to', 'say', 'here', 'and', 'there', ',', 'but', 'remains', 'in', 'the', 'hands', 'of', 'the', 'producers', 'to', 'make', 'him', 'more', 'important', '.', 'jolene', 'blalock', 'is', 'wonderful', 'as', 'the', 'sometimes', 'harsh', 'but', 'equally', 'loveable', 'subcommander', \"t'pol\", '.', 'dominic', 'keating', 'as', 'lieutenant', 'malcolm', 'reed', 'plays', 'a', 'strong', 'role', 'and', 'is', 'convincing', 'as', 'the', 'armoury', 'officer', '.', 'connor', 'trinneer', 'plays', 'commander', 'charles', '\"', 'trip', '\"', 'tucker', 'who', 'always', 'adds', 'charm', 'and', 'comedic', 'style', 'to', 'his', 'character', 'and', 'finally', 'linda', 'park', 'as', 'ensign', 'hoshi', 'sato', ',', 'who', 'often', 'plays', 'a', 'weaker', 'character', 'but', 'thankfully', 'quickly', 'becomes', 'interesting', '.', 'all', 'of', 'these', 'characters', 'make', 'up', 'enterprise', ',', 'and', 'all', 'bring', 'a', 'quality', 'that', 'star', 'trek', \"hasn't\", 'seen', 'in', 'a', 'long', 'time', '.', 'each', 'person', 'makes', 'this', 'show', 'worth', 'watching', '.', 'smiles', 'and', 'feel-good', 'senses', 'are', 'guaranteed', 'right', 'from', 'the', 'first', 'time', 'we', 'see', 'them', 'all', 'together', 'on', 'the', 'bridge', 'of', 'the', 'starship', 'enterprise', 'nx-01', '.', 'the', 'ship', 'itself', ',', 'the', 'nx-01', 'is', 'somewhat', 'questionable', 'in', 'design', '.', 'the', 'series', 'is', 'set', '150', 'years', 'from', 'now', 'and', '100', 'years', 'before', 'captain', 'kirk', '.', 'so', 'why', 'then', 'does', 'the', 'ship', 'appear', 'to', 'be', 'similar', 'in', 'design', 'to', 'mid', '24th', 'century', 'ships', ',', 'namely', 'the', 'akira', 'class', 'starship', '?', 'continuity', 'has', 'been', 'an', 'issue', 'in', 'enterprise', ',', 'but', 'thankfully', 'rick', '[berman]', 'and', 'brannon', '[braga]', 'offer', 'suitable', 'explanations', 'for', 'each', 'and', 'everyone', 'of', 'them', '.', 'continuity', 'is', 'only', 'a', 'problem', 'if', 'you', 'are', 'forever', 'scrutinising', 'shows', 'and', 'are', 'obsessed', 'with', 'the', 'tiniest', 'of', 'details', '.', 'if', 'you', 'see', 'the', 'show', 'with', 'and', 'open', 'mind', ',', 'then', \"you'll\", 'have', 'no', 'problems', ',', 'but', 'there', 'is', 'an', 'urge', 'to', 'know', \"'why'\", 'all', 'the', 'time', '.', 'so', 'what', 'did', 'berman', 'and', 'braga', 'offer', 'to', 'the', 'star', 'trek', 'fan-base', 'with', 'the', 'issue', 'of', 'the', 'deign', 'of', 'the', 'ship', 'itself', '?', 'according', 'to', 'them', 'the', 'nx-01', 'is', 'how', 'it', 'is', 'because', 'of', 'the', 'incident', 'in', 'first', 'contact', '.', 'when', 'zefram', 'cochrane', 'saw', 'the', 'enterprise-e', 'through', 'his', 'telescope', 'and', 'from', 'speaking', 'with', 'the', 'away', 'team', 'lead', 'by', 'commander', 'riker', ',', 'it', 'changed', 'the', 'ideas', 'in', 'his', 'head', '.', \"that's\", 'a', 'good', 'enough', 'explanation', 'for', 'me', '.', 'lets', 'move', 'on', '.', 'of', 'course', 'its', 'not', 'as', 'easy', 'for', 'some', 'fans', 'to', 'accept', 'that', 'sort', 'of', 'answer', ',', 'some', 'go', 'as', 'far', 'as', 'to', 'refuse', 'to', 'see', 'the', 'show', 'until', 'they', 'get', 'a', 'reasonable', 'answer', '.', 'come', 'on', 'guys', 'grow', 'up', '.', 'when', 'george', 'lucas', 'destroyed', 'the', 'star', 'wars', 'saga', 'with', 'the', 'launch', 'of', 'his', 'profit', 'making', 'new', 'trilogy', ',', 'fans', \"couldn't\", 'do', 'anything', ',', 'only', 'watch', 'and', 'sap', 'it', 'all', 'up', 'anyway', '.', 'and', 'then', 'they', 'learned', 'that', ',', 'well', 'maybe', 'its', 'not', 'that', 'bad', 'after', 'all', '.', 'if', 'you', \"can't\", 'accept', 'a', 'quality', 'show', 'for', 'what', 'it', 'is', ',', 'not', 'what', 'it', 'should', 'be', 'in', 'your', 'mind', ',', 'then', 'go', 'elsewhere', '.', 'or', 'try', 'becoming', 'a', 'producer', 'on', 'the', 'show', 'and', 'then', 'see', 'what', 'you', 'can', 'do', '.', 'the', 'sets', 'on', 'enterprise', 'remind', 'me', 'very', 'much', 'of', 'the', 'defiant', 'from', 'deep', 'space', 'nine', '.', 'they', 'often', 'appear', 'cold', 'and', 'have', 'an', 'eerie', 'look', 'of', 'modern', 'structure', 'to', 'them', 'and', 'they', 'cry', 'out', 'that', 'they', 'belong', 'to', 'the', 'military', '.', 'perhaps', 'that', 'why', 'the', 'crew', 'of', 'the', 'uss', 'enterprise', '(', 'aka', 'flagship', 'of', 'the', 'american', 'fleet', ')', 'like', 'it', 'so', 'much', '.', 'they', 'are', 'striking', 'sets', ',', 'and', 'represent', 'the', 'show', 'perfectly', '.', 'rick', 'berman', \"'the\", 'overlord', 'of', 'the', \"empire'\", 'as', 'john', 'logan', 'so', 'accurately', 'put', 'it', 'and', 'his', 'counterpart', 'brannon', 'braga', 'has', 'hit', 'the', 'nail', 'on', 'the', 'head', 'exactly', 'where', 'they', 'should', 'have', ',', 'and', 'in', 'all', 'the', 'right', 'places', '.', 'whether', 'that', 'be', 'technicalities', ',', 'visuals', ',', 'sound', ',', 'editing', 'or', 'score', '.', 'enterprise', 'is', 'a', 'fine', 'demonstration', 'to', 'just', 'how', 'good', 'televised', 'science', 'fiction', 'can', 'ultimately', 'be', ',', 'when', 'in', 'the', 'hands', 'of', 'geniuses', '.', 'the', 'late', 'gene', 'roddenberry', 'would', 'be', 'proud', 'of', 'this', 'series', 'and', 'as', 'a', 'star', 'trek', 'fan', ',', 'so', 'should', 'you', '.']\n"
     ]
    },
    {
     "name": "stdout",
     "output_type": "stream",
     "text": [
      "Doc2Vec(dm/c,d100,n5,w5,mc2,t8):\n",
      " [(24784, 0.612922728061676), (7032, 0.605194628238678), (41347, 0.5834512114524841)] \n",
      " ['enterprise', ',', 'the', 'latest', 'high', 'budget', 'spin-off', 'to', 'the', 'most', 'successful', 'franchise', 'in', 'film', 'and', 'or', 'television', 'history', 'opens', 'to', 'the', 'tune', 'of', 'a', '90-minute', 'episode', 'called', \"'broken\", \"bow'\", '.', 'first', 'we', 'are', 'swept', 'into', 'a', 'massive', 'action', 'sequence', 'with', 'a', 'klingon', 'being', 'chased', 'by', 'some', 'suliban', '(', 'who', 'are', 'the', 'main', 'enemy', 'in', 'the', 'first', 'season', 'of', 'the', 'show', ')', '.', 'from', 'there', 'the', 'televised', 'movie', 'takes', 'us', 'on', 'a', 'journey', 'that', 'seldom', 'gets', 'as', 'good', 'as', 'it', 'is', ',', 'with', 'some', 'of', 'the', 'best', 'character', 'development', ',', 'story', 'and', 'action/visual', 'effects', 'ever', 'seen', 'in', 'such', 'a', 'short', 'amount', 'of', 'time', '.', 'the', 'opening-credits', 'is', 'a', 'debatable', 'subject', 'among', 'the', 'minority', 'of', 'enterprise', 'fans', ',', 'whom', 'some', 'believe', 'that', 'the', 'song', 'is', 'out', 'of', 'place', '.', 'what', 'they', 'fail', 'to', 'realise', 'is', 'the', 'lyrics', 'themselves', '.', 'if', 'one', 'listens', 'to', 'the', 'actual', 'song', ',', 'instead', 'of', 'the', 'theme', ',', 'then', 'they', 'will', 'begin', 'to', 'piece', 'the', 'parts', 'of', 'the', 'puzzle', 'together', '.', 'and', 'eventually', 'as', 'the', 'series', 'progresses', 'further', 'and', 'further', ',', 'and', 'we', 'learn', 'more', 'about', 'our', 'valiant', 'captain', 'and', 'his', 'crew', ',', 'will', 'the', 'song', 'actually', 'become', 'meaningful', '.', 'overall', 'diane', \"warren's\", 'theme', 'is', 'beautifully', 'orchestrated', 'and', 'is', 'sung', 'just', 'as', 'well', 'by', 'opera', 'singer', 'russell', 'watson', '.', 'what', 'makes', 'any', 'television', 'show', 'watchable', 'and', 'worth', 'watching', 'time', 'and', 'time', 'again', 'is', 'its', 'characters', 'and', 'the', 'way', 'they', 'become', 'structured', 'and', 'layered', '.', 'enterprise', 'is', '(', 'in', 'my', 'opinion', ')', 'one', 'of', 'the', 'most', 'well', 'cast', 'shows', 'since', 'the', 'next', 'generation', '.', 'choosing', 'scott', 'bakula', ',', 'as', 'captain', 'jonathan', 'archer', 'was', 'the', 'best', 'decision', 'since', 'gene', 'himself', 'cast', 'patrick', 'stewart', 'as', 'jean-luc', 'picard', '.', 'as', 'the', 'captain', 'always', 'leads', 'the', 'show', ',', 'bakula', 'adds', 'a', 'subtlety', 'to', 'his', 'role', 'and', 'brings', 'a', 'huge', 'smile', 'to', 'the', 'faces', 'of', 'anyone', 'with', 'blood', 'pumping', 'in', 'their', 'veins', '.', 'he', 'simply', 'is', '(', 'both', 'actor', 'wise', 'and', 'character', 'wise', ')', 'a', 'superb', 'human', 'being', 'and', 'his', 'charm', ',', 'wit', ',', 'and', 'compassion', 'are', 'overwhelming', 'to', 'watch', '.', 'as', 'for', 'the', 'other', 'cast', 'members', ',', 'a', 'favourite', 'of', 'mine', 'is', 'john', 'billingsley', 'who', 'plays', 'dr', '.', 'phlox', '.', \"it's\", 'also', 'nice', 'to', 'see', 'a', 'non-human', 'playing', 'a', 'role', ',', 'and', 'the', 'decision', 'to', 'give', 'the', 'captain', 'a', 'dog', ',', 'named', \"'porthos'\", 'was', 'a', 'well-received', 'idea', '.', 'throughout', 'the', 'show', 'character', 'development', 'was', 'brilliant', ',', 'it', 'was', 'fast', ',', 'well', 'timed', 'and', 'almost', 'perfect', '.', 'i', 'say', 'almost', 'because', 'sadly', 'travis', \"mayweather's\", 'character', 'played', 'by', 'the', 'briton', 'anthony', 'montgomery', 'is', 'a', 'little', 'weak', 'at', 'the', 'end', 'of', 'the', 'first', 'season', '.', 'he', 'does', 'have', 'some', 'things', 'to', 'say', 'here', 'and', 'there', ',', 'but', 'remains', 'in', 'the', 'hands', 'of', 'the', 'producers', 'to', 'make', 'him', 'more', 'important', '.', 'jolene', 'blalock', 'is', 'wonderful', 'as', 'the', 'sometimes', 'harsh', 'but', 'equally', 'loveable', 'subcommander', \"t'pol\", '.', 'dominic', 'keating', 'as', 'lieutenant', 'malcolm', 'reed', 'plays', 'a', 'strong', 'role', 'and', 'is', 'convincing', 'as', 'the', 'armoury', 'officer', '.', 'connor', 'trinneer', 'plays', 'commander', 'charles', '\"', 'trip', '\"', 'tucker', 'who', 'always', 'adds', 'charm', 'and', 'comedic', 'style', 'to', 'his', 'character', 'and', 'finally', 'linda', 'park', 'as', 'ensign', 'hoshi', 'sato', ',', 'who', 'often', 'plays', 'a', 'weaker', 'character', 'but', 'thankfully', 'quickly', 'becomes', 'interesting', '.', 'all', 'of', 'these', 'characters', 'make', 'up', 'enterprise', ',', 'and', 'all', 'bring', 'a', 'quality', 'that', 'star', 'trek', \"hasn't\", 'seen', 'in', 'a', 'long', 'time', '.', 'each', 'person', 'makes', 'this', 'show', 'worth', 'watching', '.', 'smiles', 'and', 'feel-good', 'senses', 'are', 'guaranteed', 'right', 'from', 'the', 'first', 'time', 'we', 'see', 'them', 'all', 'together', 'on', 'the', 'bridge', 'of', 'the', 'starship', 'enterprise', 'nx-01', '.', 'the', 'ship', 'itself', ',', 'the', 'nx-01', 'is', 'somewhat', 'questionable', 'in', 'design', '.', 'the', 'series', 'is', 'set', '150', 'years', 'from', 'now', 'and', '100', 'years', 'before', 'captain', 'kirk', '.', 'so', 'why', 'then', 'does', 'the', 'ship', 'appear', 'to', 'be', 'similar', 'in', 'design', 'to', 'mid', '24th', 'century', 'ships', ',', 'namely', 'the', 'akira', 'class', 'starship', '?', 'continuity', 'has', 'been', 'an', 'issue', 'in', 'enterprise', ',', 'but', 'thankfully', 'rick', '[berman]', 'and', 'brannon', '[braga]', 'offer', 'suitable', 'explanations', 'for', 'each', 'and', 'everyone', 'of', 'them', '.', 'continuity', 'is', 'only', 'a', 'problem', 'if', 'you', 'are', 'forever', 'scrutinising', 'shows', 'and', 'are', 'obsessed', 'with', 'the', 'tiniest', 'of', 'details', '.', 'if', 'you', 'see', 'the', 'show', 'with', 'and', 'open', 'mind', ',', 'then', \"you'll\", 'have', 'no', 'problems', ',', 'but', 'there', 'is', 'an', 'urge', 'to', 'know', \"'why'\", 'all', 'the', 'time', '.', 'so', 'what', 'did', 'berman', 'and', 'braga', 'offer', 'to', 'the', 'star', 'trek', 'fan-base', 'with', 'the', 'issue', 'of', 'the', 'deign', 'of', 'the', 'ship', 'itself', '?', 'according', 'to', 'them', 'the', 'nx-01', 'is', 'how', 'it', 'is', 'because', 'of', 'the', 'incident', 'in', 'first', 'contact', '.', 'when', 'zefram', 'cochrane', 'saw', 'the', 'enterprise-e', 'through', 'his', 'telescope', 'and', 'from', 'speaking', 'with', 'the', 'away', 'team', 'lead', 'by', 'commander', 'riker', ',', 'it', 'changed', 'the', 'ideas', 'in', 'his', 'head', '.', \"that's\", 'a', 'good', 'enough', 'explanation', 'for', 'me', '.', 'lets', 'move', 'on', '.', 'of', 'course', 'its', 'not', 'as', 'easy', 'for', 'some', 'fans', 'to', 'accept', 'that', 'sort', 'of', 'answer', ',', 'some', 'go', 'as', 'far', 'as', 'to', 'refuse', 'to', 'see', 'the', 'show', 'until', 'they', 'get', 'a', 'reasonable', 'answer', '.', 'come', 'on', 'guys', 'grow', 'up', '.', 'when', 'george', 'lucas', 'destroyed', 'the', 'star', 'wars', 'saga', 'with', 'the', 'launch', 'of', 'his', 'profit', 'making', 'new', 'trilogy', ',', 'fans', \"couldn't\", 'do', 'anything', ',', 'only', 'watch', 'and', 'sap', 'it', 'all', 'up', 'anyway', '.', 'and', 'then', 'they', 'learned', 'that', ',', 'well', 'maybe', 'its', 'not', 'that', 'bad', 'after', 'all', '.', 'if', 'you', \"can't\", 'accept', 'a', 'quality', 'show', 'for', 'what', 'it', 'is', ',', 'not', 'what', 'it', 'should', 'be', 'in', 'your', 'mind', ',', 'then', 'go', 'elsewhere', '.', 'or', 'try', 'becoming', 'a', 'producer', 'on', 'the', 'show', 'and', 'then', 'see', 'what', 'you', 'can', 'do', '.', 'the', 'sets', 'on', 'enterprise', 'remind', 'me', 'very', 'much', 'of', 'the', 'defiant', 'from', 'deep', 'space', 'nine', '.', 'they', 'often', 'appear', 'cold', 'and', 'have', 'an', 'eerie', 'look', 'of', 'modern', 'structure', 'to', 'them', 'and', 'they', 'cry', 'out', 'that', 'they', 'belong', 'to', 'the', 'military', '.', 'perhaps', 'that', 'why', 'the', 'crew', 'of', 'the', 'uss', 'enterprise', '(', 'aka', 'flagship', 'of', 'the', 'american', 'fleet', ')', 'like', 'it', 'so', 'much', '.', 'they', 'are', 'striking', 'sets', ',', 'and', 'represent', 'the', 'show', 'perfectly', '.', 'rick', 'berman', \"'the\", 'overlord', 'of', 'the', \"empire'\", 'as', 'john', 'logan', 'so', 'accurately', 'put', 'it', 'and', 'his', 'counterpart', 'brannon', 'braga', 'has', 'hit', 'the', 'nail', 'on', 'the', 'head', 'exactly', 'where', 'they', 'should', 'have', ',', 'and', 'in', 'all', 'the', 'right', 'places', '.', 'whether', 'that', 'be', 'technicalities', ',', 'visuals', ',', 'sound', ',', 'editing', 'or', 'score', '.', 'enterprise', 'is', 'a', 'fine', 'demonstration', 'to', 'just', 'how', 'good', 'televised', 'science', 'fiction', 'can', 'ultimately', 'be', ',', 'when', 'in', 'the', 'hands', 'of', 'geniuses', '.', 'the', 'late', 'gene', 'roddenberry', 'would', 'be', 'proud', 'of', 'this', 'series', 'and', 'as', 'a', 'star', 'trek', 'fan', ',', 'so', 'should', 'you', '.']\n"
     ]
    }
   ],
   "source": [
    "import random\n",
    "doc_id = random.randint(0, len(test_docs))  # Pick random doc; re-run cell for more examples\n",
    "print('for doc %d...' % doc_id)\n",
    "for model in simple_models:\n",
    "    inferred_docvec = model.infer_vector(alldocs[doc_id].words)\n",
    "    print('%s:\\n %s \\n %s' % (model, model.dv.most_similar([inferred_docvec], topn=3),alldocs[doc_id].words))"
   ]
  },
  {
   "cell_type": "code",
   "execution_count": null,
   "id": "045f387c",
   "metadata": {},
   "outputs": [],
   "source": []
  }
 ],
 "metadata": {
  "kernelspec": {
   "display_name": "Python 3",
   "language": "python",
   "name": "python3"
  },
  "language_info": {
   "codemirror_mode": {
    "name": "ipython",
    "version": 3
   },
   "file_extension": ".py",
   "mimetype": "text/x-python",
   "name": "python",
   "nbconvert_exporter": "python",
   "pygments_lexer": "ipython3",
   "version": "3.8.10"
  }
 },
 "nbformat": 4,
 "nbformat_minor": 5
}
